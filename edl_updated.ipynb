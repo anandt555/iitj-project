{
  "cells": [
    {
      "cell_type": "markdown",
      "metadata": {
        "id": "view-in-github",
        "colab_type": "text"
      },
      "source": [
        "<a href=\"https://colab.research.google.com/github/anandt555/BigData-Practice/blob/main/edl_updated.ipynb\" target=\"_parent\"><img src=\"https://colab.research.google.com/assets/colab-badge.svg\" alt=\"Open In Colab\"/></a>"
      ]
    },
    {
      "cell_type": "markdown",
      "source": [
        "## **Evidential deep learning**"
      ],
      "metadata": {
        "id": "Jo6JG99C04TE"
      }
    },
    {
      "cell_type": "markdown",
      "source": [
        "### **Evidential deep learning With MNIST**\n",
        "\n",
        "\n",
        "\n"
      ],
      "metadata": {
        "id": "rQDGUnodJ9xI"
      }
    },
    {
      "cell_type": "code",
      "source": [
        "import torch\n",
        "import torch.nn as nn\n",
        "import torch.optim as optim\n",
        "import torchvision\n",
        "import torchvision.transforms as transforms\n",
        "from torch.utils.data import DataLoader\n",
        "from PIL import Image\n",
        "\n",
        "# Download MNIST dataset\n",
        "transform = transforms.Compose([transforms.ToTensor(), transforms.Normalize((0.5,), (0.5,))])\n",
        "train_dataset = torchvision.datasets.MNIST(root='./data', train=True, download=True, transform=transform)\n",
        "test_dataset = torchvision.datasets.MNIST(root='./data', train=False, download=True, transform=transform)\n",
        "\n",
        "train_loader = DataLoader(dataset=train_dataset, batch_size=1000, shuffle=True)\n",
        "test_loader = DataLoader(dataset=test_dataset, batch_size=1000, shuffle=False)\n",
        "\n",
        "# LeNet model with Dirichlet distribution for Evidential Deep Learning\n",
        "class LeNetDirichlet(nn.Module):\n",
        "    def __init__(self):\n",
        "        super(LeNetDirichlet, self).__init__()\n",
        "        self.conv1 = nn.Conv2d(1, 20, kernel_size=5, stride=1, padding=0)\n",
        "        self.pool1 = nn.MaxPool2d(kernel_size=2, stride=2)\n",
        "        self.conv2 = nn.Conv2d(20, 50, kernel_size=5, stride=1, padding=0)\n",
        "        self.pool2 = nn.MaxPool2d(kernel_size=2, stride=2)\n",
        "        self.fc1 = nn.Linear(4*4*50, 500)\n",
        "        self.fc2 = nn.Linear(500, 10)\n",
        "\n",
        "    def forward(self, x):\n",
        "        x = self.pool1(torch.relu(self.conv1(x)))\n",
        "        x = self.pool2(torch.relu(self.conv2(x)))\n",
        "        x = x.view(-1, 4*4*50)\n",
        "        x = torch.relu(self.fc1(x))\n",
        "        x = self.fc2(x)\n",
        "\n",
        "        alpha = torch.abs(x) + 1  # Use absolute values for simplicity, adjust as needed\n",
        "\n",
        "        u = 10 / torch.sum(alpha, dim=1, keepdim=True)\n",
        "\n",
        "        prob = alpha / torch.sum(alpha, 1, keepdim=True)\n",
        "\n",
        "        return prob, u, alpha\n",
        "\n",
        "# Train LeNet model with Dirichlet distribution for Evidential Deep Learning\n",
        "lenet_dirichlet = LeNetDirichlet()\n",
        "criterion_dirichlet = nn.CrossEntropyLoss()\n",
        "optimizer_dirichlet = optim.Adam(lenet_dirichlet.parameters(), lr=0.001)\n",
        "\n",
        "for epoch in range(10):\n",
        "    lenet_dirichlet.train()\n",
        "    for inputs, labels in train_loader:\n",
        "        optimizer_dirichlet.zero_grad()\n",
        "        outputs, _, _ = lenet_dirichlet(inputs)\n",
        "        loss = criterion_dirichlet(outputs, labels)\n",
        "        loss.backward()\n",
        "        optimizer_dirichlet.step()\n",
        "\n",
        "    lenet_dirichlet.eval()\n",
        "    correct_train = 0\n",
        "    total_train = 0\n",
        "    with torch.no_grad():\n",
        "        for inputs, labels in train_loader:\n",
        "            outputs, _, _ = lenet_dirichlet(inputs)\n",
        "            _, predicted = torch.max(outputs.data, 1)\n",
        "            total_train += labels.size(0)\n",
        "            correct_train += (predicted == labels).sum().item()\n",
        "\n",
        "    correct_test = 0\n",
        "    total_test = 0\n",
        "    with torch.no_grad():\n",
        "        for inputs, labels in test_loader:\n",
        "            outputs, _, _ = lenet_dirichlet(inputs)\n",
        "            _, predicted = torch.max(outputs.data, 1)\n",
        "            total_test += labels.size(0)\n",
        "            correct_test += (predicted == labels).sum().item()\n",
        "\n",
        "    print('epoch %d - training accuracy: %2.4f \\t testing accuracy: %2.4f' %\n",
        "          (epoch+1, correct_train / total_train, correct_test / total_test))"
      ],
      "metadata": {
        "colab": {
          "base_uri": "https://localhost:8080/"
        },
        "id": "S2KIrXlcCqzW",
        "outputId": "85e331f7-6034-44a0-b600-4e7a9159a785"
      },
      "execution_count": null,
      "outputs": [
        {
          "output_type": "stream",
          "name": "stdout",
          "text": [
            "Downloading http://yann.lecun.com/exdb/mnist/train-images-idx3-ubyte.gz\n",
            "Downloading http://yann.lecun.com/exdb/mnist/train-images-idx3-ubyte.gz to ./data/MNIST/raw/train-images-idx3-ubyte.gz\n"
          ]
        },
        {
          "output_type": "stream",
          "name": "stderr",
          "text": [
            "100%|██████████| 9912422/9912422 [00:00<00:00, 145697183.68it/s]\n"
          ]
        },
        {
          "output_type": "stream",
          "name": "stdout",
          "text": [
            "Extracting ./data/MNIST/raw/train-images-idx3-ubyte.gz to ./data/MNIST/raw\n",
            "\n",
            "Downloading http://yann.lecun.com/exdb/mnist/train-labels-idx1-ubyte.gz\n",
            "Downloading http://yann.lecun.com/exdb/mnist/train-labels-idx1-ubyte.gz to ./data/MNIST/raw/train-labels-idx1-ubyte.gz\n"
          ]
        },
        {
          "output_type": "stream",
          "name": "stderr",
          "text": [
            "100%|██████████| 28881/28881 [00:00<00:00, 24853445.59it/s]\n"
          ]
        },
        {
          "output_type": "stream",
          "name": "stdout",
          "text": [
            "Extracting ./data/MNIST/raw/train-labels-idx1-ubyte.gz to ./data/MNIST/raw\n",
            "\n",
            "Downloading http://yann.lecun.com/exdb/mnist/t10k-images-idx3-ubyte.gz\n",
            "Downloading http://yann.lecun.com/exdb/mnist/t10k-images-idx3-ubyte.gz to ./data/MNIST/raw/t10k-images-idx3-ubyte.gz\n"
          ]
        },
        {
          "output_type": "stream",
          "name": "stderr",
          "text": [
            "100%|██████████| 1648877/1648877 [00:00<00:00, 112291016.20it/s]"
          ]
        },
        {
          "output_type": "stream",
          "name": "stdout",
          "text": [
            "Extracting ./data/MNIST/raw/t10k-images-idx3-ubyte.gz to ./data/MNIST/raw\n"
          ]
        },
        {
          "output_type": "stream",
          "name": "stderr",
          "text": [
            "\n"
          ]
        },
        {
          "output_type": "stream",
          "name": "stdout",
          "text": [
            "\n",
            "Downloading http://yann.lecun.com/exdb/mnist/t10k-labels-idx1-ubyte.gz\n",
            "Downloading http://yann.lecun.com/exdb/mnist/t10k-labels-idx1-ubyte.gz to ./data/MNIST/raw/t10k-labels-idx1-ubyte.gz\n"
          ]
        },
        {
          "output_type": "stream",
          "name": "stderr",
          "text": [
            "100%|██████████| 4542/4542 [00:00<00:00, 10264293.52it/s]"
          ]
        },
        {
          "output_type": "stream",
          "name": "stdout",
          "text": [
            "Extracting ./data/MNIST/raw/t10k-labels-idx1-ubyte.gz to ./data/MNIST/raw\n",
            "\n"
          ]
        },
        {
          "output_type": "stream",
          "name": "stderr",
          "text": [
            "\n"
          ]
        },
        {
          "output_type": "stream",
          "name": "stdout",
          "text": [
            "epoch 1 - training accuracy: 0.7368 \t testing accuracy: 0.7424\n",
            "epoch 2 - training accuracy: 0.9094 \t testing accuracy: 0.9168\n",
            "epoch 3 - training accuracy: 0.9518 \t testing accuracy: 0.9555\n",
            "epoch 4 - training accuracy: 0.9606 \t testing accuracy: 0.9627\n",
            "epoch 5 - training accuracy: 0.9655 \t testing accuracy: 0.9673\n",
            "epoch 6 - training accuracy: 0.9694 \t testing accuracy: 0.9710\n",
            "epoch 7 - training accuracy: 0.9725 \t testing accuracy: 0.9744\n",
            "epoch 8 - training accuracy: 0.9746 \t testing accuracy: 0.9762\n",
            "epoch 9 - training accuracy: 0.9767 \t testing accuracy: 0.9784\n",
            "epoch 10 - training accuracy: 0.9789 \t testing accuracy: 0.9790\n"
          ]
        }
      ]
    },
    {
      "cell_type": "code",
      "source": [
        "import matplotlib.pyplot as plt\n",
        "import torchvision.transforms as transforms\n",
        "\n",
        "# Assuming you have the original MNIST dataset loaded\n",
        "transform_display = transforms.Compose([transforms.ToPILImage(), transforms.Resize((28, 28))])\n",
        "\n",
        "# Display the original image\n",
        "test_image, test_label = test_dataset[5]  # Access the 5th test image\n",
        "plt.imshow(transform_display(test_image), cmap='gray')\n",
        "plt.title(f'True Label: {test_label}')\n",
        "plt.axis('off')\n",
        "plt.show()\n",
        "\n",
        "lenet_dirichlet.eval()\n",
        "\n",
        "input_image = test_image.unsqueeze(0)\n",
        "\n",
        "with torch.no_grad():\n",
        "    outputs, uncertainty, alpha = lenet_dirichlet(input_image)\n",
        "\n",
        "probabilities = torch.nn.functional.softmax(outputs, dim=1)\n",
        "print(\"Predicted Probabilities:\", probabilities)\n",
        "print(\"Uncertainty:\", uncertainty)\n",
        "print(\"Alpha Parameters:\", alpha)\n",
        "#print(\"True Label:\", test_label.item())\n"
      ],
      "metadata": {
        "colab": {
          "base_uri": "https://localhost:8080/",
          "height": 517
        },
        "id": "vqv0s6bVMWBR",
        "outputId": "5bc85390-78d3-41e3-fbd0-40187761d2b1"
      },
      "execution_count": null,
      "outputs": [
        {
          "output_type": "display_data",
          "data": {
            "text/plain": [
              "<Figure size 640x480 with 1 Axes>"
            ],
            "image/png": "[encoded data removed]"
          },
          "metadata": {}
        },
        {
          "output_type": "stream",
          "name": "stdout",
          "text": [
            "Predicted Probabilities: tensor([[0.0856, 0.2289, 0.0857, 0.0857, 0.0857, 0.0857, 0.0857, 0.0856, 0.0857,\n",
            "         0.0857]])\n",
            "Uncertainty: tensor([[0.0122]])\n",
            "Alpha Parameters: tensor([[  1.0882, 805.4111,   1.2244,   1.4984,   1.7173,   1.2568,   1.7364,\n",
            "           1.1229,   1.5463,   1.4140]])\n"
          ]
        }
      ]
    },
    {
      "cell_type": "markdown",
      "source": [
        "### **Evidential deep learning with CIFAR10**"
      ],
      "metadata": {
        "id": "QJCOzpStKMZP"
      }
    },
    {
      "cell_type": "code",
      "source": [
        "import torch\n",
        "import torch.nn as nn\n",
        "import torch.optim as optim\n",
        "import torchvision\n",
        "import torchvision.transforms as transforms\n",
        "from torch.utils.data import DataLoader\n",
        "from PIL import Image\n",
        "\n",
        "# Download CIFAR-10 dataset\n",
        "transform = transforms.Compose([transforms.ToTensor(), transforms.Normalize((0.5, 0.5, 0.5), (0.5, 0.5, 0.5))])\n",
        "train_dataset = torchvision.datasets.CIFAR10(root='./data1', train=True, download=True, transform=transform)\n",
        "test_dataset = torchvision.datasets.CIFAR10(root='./data1', train=False, download=True, transform=transform)\n",
        "\n",
        "train_loader = DataLoader(dataset=train_dataset, batch_size=64, shuffle=True)\n",
        "test_loader = DataLoader(dataset=test_dataset, batch_size=64, shuffle=False)\n",
        "\n",
        "# LeNet model with Dirichlet distribution for Evidential Deep Learning\n",
        "class LeNetDirichletCIFAR(nn.Module):\n",
        "    def __init__(self):\n",
        "        super(LeNetDirichletCIFAR, self).__init__()\n",
        "        self.conv1 = nn.Conv2d(3, 32, kernel_size=5, stride=1, padding=2)  # Adjust input channels\n",
        "        self.pool1 = nn.MaxPool2d(kernel_size=2, stride=2)\n",
        "        self.conv2 = nn.Conv2d(32, 64, kernel_size=5, stride=1, padding=2)\n",
        "        self.pool2 = nn.MaxPool2d(kernel_size=2, stride=2)\n",
        "        self.fc1 = nn.Linear(8*8*64, 512)  # Adjust the input size for fully connected layer\n",
        "        self.fc2 = nn.Linear(512, 10)  # Adjust output classes\n",
        "\n",
        "    def forward(self, x):\n",
        "        x = self.pool1(torch.relu(self.conv1(x)))\n",
        "        x = self.pool2(torch.relu(self.conv2(x)))\n",
        "        x = x.view(-1, 8*8*64)\n",
        "        x = torch.relu(self.fc1(x))\n",
        "        x = self.fc2(x)\n",
        "\n",
        "        alpha = torch.abs(x) + 1  # Use absolute values for simplicity, adjust as needed\n",
        "\n",
        "        u = 10 / torch.sum(alpha, dim=1, keepdim=True)\n",
        "\n",
        "        prob = alpha / torch.sum(alpha, 1, keepdim=True)\n",
        "\n",
        "        return prob, u, alpha\n",
        "\n",
        "# Train LeNet model with Dirichlet distribution for Evidential Deep Learning\n",
        "lenet_dirichlet_CIFAR = LeNetDirichletCIFAR()\n",
        "criterion_dirichlet = nn.CrossEntropyLoss()\n",
        "optimizer_dirichlet = optim.Adam(lenet_dirichlet_CIFAR.parameters(), lr=0.001)\n",
        "\n",
        "for epoch in range(20):\n",
        "    lenet_dirichlet_CIFAR.train()\n",
        "    for inputs, labels in train_loader:\n",
        "        optimizer_dirichlet.zero_grad()\n",
        "        outputs, _, _ = lenet_dirichlet_CIFAR(inputs)\n",
        "        loss = criterion_dirichlet(outputs, labels)\n",
        "        loss.backward()\n",
        "        optimizer_dirichlet.step()\n",
        "\n",
        "    lenet_dirichlet_CIFAR.eval()\n",
        "    correct_train = 0\n",
        "    total_train = 0\n",
        "    with torch.no_grad():\n",
        "        for inputs, labels in train_loader:\n",
        "            outputs, _, _ = lenet_dirichlet_CIFAR(inputs)\n",
        "            _, predicted = torch.max(outputs.data, 1)\n",
        "            total_train += labels.size(0)\n",
        "            correct_train += (predicted == labels).sum().item()\n",
        "\n",
        "    correct_test = 0\n",
        "    total_test = 0\n",
        "    with torch.no_grad():\n",
        "        for inputs, labels in test_loader:\n",
        "            outputs, _, _ = lenet_dirichlet_CIFAR(inputs)\n",
        "            _, predicted = torch.max(outputs.data, 1)\n",
        "            total_test += labels.size(0)\n",
        "            correct_test += (predicted == labels).sum().item()\n",
        "\n",
        "    print('epoch %d - training accuracy: %2.4f \\t testing accuracy: %2.4f' %\n",
        "          (epoch+1, correct_train / total_train, correct_test / total_test))"
      ],
      "metadata": {
        "colab": {
          "base_uri": "https://localhost:8080/"
        },
        "id": "WNPCYSE53HzY",
        "outputId": "9d14d571-254c-44f7-a6a4-a4d9ff0932f6"
      },
      "execution_count": 1,
      "outputs": [
        {
          "output_type": "stream",
          "name": "stdout",
          "text": [
            "Downloading https://www.cs.toronto.edu/~kriz/cifar-10-python.tar.gz to ./data1/cifar-10-python.tar.gz\n"
          ]
        },
        {
          "output_type": "stream",
          "name": "stderr",
          "text": [
            "100%|██████████| 170498071/170498071 [00:02<00:00, 68956165.57it/s]\n"
          ]
        },
        {
          "output_type": "stream",
          "name": "stdout",
          "text": [
            "Extracting ./data1/cifar-10-python.tar.gz to ./data1\n",
            "Files already downloaded and verified\n",
            "epoch 1 - training accuracy: 0.5139 \t testing accuracy: 0.5109\n",
            "epoch 2 - training accuracy: 0.5936 \t testing accuracy: 0.5756\n",
            "epoch 3 - training accuracy: 0.6489 \t testing accuracy: 0.6136\n",
            "epoch 4 - training accuracy: 0.6811 \t testing accuracy: 0.6280\n",
            "epoch 5 - training accuracy: 0.7188 \t testing accuracy: 0.6522\n",
            "epoch 6 - training accuracy: 0.7481 \t testing accuracy: 0.6740\n",
            "epoch 7 - training accuracy: 0.7573 \t testing accuracy: 0.6670\n",
            "epoch 8 - training accuracy: 0.7832 \t testing accuracy: 0.6803\n",
            "epoch 9 - training accuracy: 0.7994 \t testing accuracy: 0.6790\n",
            "epoch 10 - training accuracy: 0.8128 \t testing accuracy: 0.6822\n",
            "epoch 11 - training accuracy: 0.8190 \t testing accuracy: 0.6809\n",
            "epoch 12 - training accuracy: 0.8300 \t testing accuracy: 0.6826\n",
            "epoch 13 - training accuracy: 0.8359 \t testing accuracy: 0.6754\n",
            "epoch 14 - training accuracy: 0.8394 \t testing accuracy: 0.6812\n",
            "epoch 15 - training accuracy: 0.8513 \t testing accuracy: 0.6797\n",
            "epoch 16 - training accuracy: 0.8552 \t testing accuracy: 0.6814\n",
            "epoch 17 - training accuracy: 0.8484 \t testing accuracy: 0.6749\n",
            "epoch 18 - training accuracy: 0.8648 \t testing accuracy: 0.6680\n",
            "epoch 19 - training accuracy: 0.8657 \t testing accuracy: 0.6752\n",
            "epoch 20 - training accuracy: 0.8678 \t testing accuracy: 0.6816\n"
          ]
        }
      ]
    },
    {
      "cell_type": "code",
      "source": [
        "import matplotlib.pyplot as plt\n",
        "import torchvision.transforms as transforms\n",
        "\n",
        "# Assuming you have the original CIFAR-10 dataset loaded\n",
        "transform_display = transforms.Compose([transforms.ToPILImage(), transforms.Resize((32, 32))])\n",
        "\n",
        "# Display the original image\n",
        "test_image, true_label = test_dataset[5]  # Access the 5th test image\n",
        "plt.imshow(transform_display(test_image), cmap='gray')\n",
        "plt.title(f'True Label: {true_label}')\n",
        "plt.axis('off')\n",
        "plt.show()\n",
        "\n",
        "# Continue with the rest of the code for inference\n",
        "lenet_dirichlet_CIFAR.eval()\n",
        "class_labels = ['Airplane', 'Automobile', 'Bird', 'Cat', 'Deer', 'Dog', 'Frog', 'Horse', 'Ship', 'Truck']\n",
        "\n",
        "\n",
        "# Reshape the input image to match the model's input size\n",
        "input_image = test_image.unsqueeze(0)  # Add batch dimension\n",
        "\n",
        "with torch.no_grad():\n",
        "    outputs, uncertainty, alpha = lenet_dirichlet_CIFAR(input_image)\n",
        "\n",
        "predicted_probabilities = torch.nn.functional.softmax(outputs, dim=1)\n",
        "predicted_class = torch.argmax(predicted_probabilities, dim=1).item()\n",
        "\n",
        "print(\"Predicted Probabilities:\", predicted_probabilities)\n",
        "print(\"Predicted Class:\", class_labels[predicted_class])\n",
        "print(\"Uncertainty:\", uncertainty.item())\n",
        "print(\"Alpha Parameters:\", alpha.squeeze().tolist())  # Convert alpha tensor to list for easier printing\n",
        "print(\"True Label:\", class_labels[true_label])  # Convert true label tensor to Python scalar for display"
      ],
      "metadata": {
        "colab": {
          "base_uri": "https://localhost:8080/",
          "height": 555
        },
        "id": "Ppu_ayQhTx7-",
        "outputId": "2493250f-661f-44ff-c300-7d1f2800ea33"
      },
      "execution_count": null,
      "outputs": [
        {
          "output_type": "display_data",
          "data": {
            "text/plain": [
              "<Figure size 640x480 with 1 Axes>"
            ],
            "image/png": "[encoded data removed]"
          },
          "metadata": {}
        },
        {
          "output_type": "stream",
          "name": "stdout",
          "text": [
            "Predicted Probabilities: tensor([[0.0863, 0.0863, 0.0864, 0.0863, 0.0865, 0.0863, 0.2229, 0.0863, 0.0863,\n",
            "         0.0863]])\n",
            "Predicted Class: Frog\n",
            "Uncertainty: 0.04694695770740509\n",
            "Alpha Parameters: [1.0372369289398193, 1.036574363708496, 1.1590166091918945, 1.082773208618164, 1.4299254417419434, 1.030117154121399, 203.13356018066406, 1.0300381183624268, 1.0586154460906982, 1.0084997415542603]\n",
            "True Label: Frog\n"
          ]
        }
      ]
    },
    {
      "cell_type": "markdown",
      "source": [
        "## ***Evidential deep learning And Mixup***"
      ],
      "metadata": {
        "id": "39CmP9BL0js7"
      }
    },
    {
      "cell_type": "markdown",
      "source": [
        "###**Evidential deep learning And Mixup MNIST**"
      ],
      "metadata": {
        "id": "Mj7_9qsdKVEi"
      }
    },
    {
      "cell_type": "code",
      "source": [
        "import torch\n",
        "import torch.nn as nn\n",
        "import torch.optim as optim\n",
        "import torchvision\n",
        "import torchvision.transforms as transforms\n",
        "from torch.utils.data import DataLoader\n",
        "import numpy as np\n",
        "\n",
        "# Download MNIST dataset\n",
        "transform = transforms.Compose([transforms.ToTensor(), transforms.Normalize((0.5,), (0.5,))])\n",
        "train_dataset = torchvision.datasets.MNIST(root='./data', train=True, download=True, transform=transform)\n",
        "test_dataset = torchvision.datasets.MNIST(root='./data', train=False, download=True, transform=transform)\n",
        "\n",
        "train_loader = DataLoader(dataset=train_dataset, batch_size=64, shuffle=True)\n",
        "test_loader = DataLoader(dataset=test_dataset, batch_size=64, shuffle=False)\n",
        "\n",
        "# LeNet model with Dirichlet distribution for Evidential Deep Learning and mixup\n",
        "class LeNetDirichletMixup(nn.Module):\n",
        "    def __init__(self):\n",
        "        super(LeNetDirichletMixup, self).__init__()\n",
        "        self.conv1 = nn.Conv2d(1, 20, kernel_size=5, stride=1, padding=0)\n",
        "        self.pool1 = nn.MaxPool2d(kernel_size=2, stride=2)\n",
        "        self.conv2 = nn.Conv2d(20, 50, kernel_size=5, stride=1, padding=0)\n",
        "        self.pool2 = nn.MaxPool2d(kernel_size=2, stride=2)\n",
        "        self.fc1 = nn.Linear(4*4*50, 500)\n",
        "        self.fc2 = nn.Linear(500, 10)\n",
        "\n",
        "    def forward(self, x):\n",
        "        x = self.pool1(torch.relu(self.conv1(x)))\n",
        "        x = self.pool2(torch.relu(self.conv2(x)))\n",
        "        x = x.view(-1, 4*4*50)\n",
        "        x = torch.relu(self.fc1(x))\n",
        "        x = self.fc2(x)\n",
        "\n",
        "        alpha = torch.abs(x) + 1  # Use absolute values for simplicity, adjust as needed\n",
        "\n",
        "        u = 10 / torch.sum(alpha, dim=1, keepdim=True)\n",
        "\n",
        "        prob = alpha / torch.sum(alpha, 1, keepdim=True)\n",
        "\n",
        "        return prob, u, alpha\n",
        "\n",
        "# # Mixup function for Evidential Deep Learning\n",
        "# def mixup_data(x, y, alpha=0.1):\n",
        "#     lam = np.random.beta(alpha, alpha)\n",
        "#     batch_size = x.size()[0]\n",
        "#     index = torch.randperm(batch_size).to(x.device)\n",
        "#     mixed_x = lam * x + (1 - lam) * x[index, :]\n",
        "#     mixed_y = lam * y + (1 - lam) * y[index, :]\n",
        "#     return mixed_x, mixed_y\n",
        "# epoch 1 - training accuracy: 0.6890 \t testing accuracy: 0.6892\n",
        "# epoch 2 - training accuracy: 0.6864 \t testing accuracy: 0.6874\n",
        "\n",
        "def mixup_data(x, y, alpha=0.1):\n",
        "    lam = np.random.beta(alpha, alpha)\n",
        "    batch_size = x.size()[0]\n",
        "    index = torch.randperm(batch_size)\n",
        "    mixed_x = lam * x + (1 - lam) * x[index, :]\n",
        "    # Convert labels to one-hot encoding\n",
        "    y_onehot = torch.zeros(y.size(0), 10).to(x.device)\n",
        "    y_onehot.scatter_(1, y.view(-1, 1).long(), 1)\n",
        "    mixed_y = lam * y_onehot + (1 - lam) * y_onehot[index, :]\n",
        "    mixed_y = mixed_y.argmax(dim=1)\n",
        "    return mixed_x, mixed_y\n",
        "\n",
        "# Train LeNet model with Dirichlet distribution and mixup for Evidential Deep Learning\n",
        "lenet_dirichlet_mixup = LeNetDirichletMixup()\n",
        "criterion_dirichlet = nn.CrossEntropyLoss()\n",
        "optimizer_dirichlet_mixup = optim.Adam(lenet_dirichlet_mixup.parameters(), lr=0.001)\n",
        "\n",
        "for epoch in range(10):\n",
        "    lenet_dirichlet_mixup.train()\n",
        "    for inputs, labels in train_loader:\n",
        "        inputs, labels = mixup_data(inputs, labels.unsqueeze(1))  # Assuming labels are one-dimensional\n",
        "\n",
        "        optimizer_dirichlet_mixup.zero_grad()\n",
        "        outputs, _, _ = lenet_dirichlet_mixup(inputs)\n",
        "        labels = labels.squeeze().long()\n",
        "\n",
        "        loss = criterion_dirichlet(outputs, labels)\n",
        "        loss.backward()\n",
        "        optimizer_dirichlet_mixup.step()\n",
        "\n",
        "    lenet_dirichlet_mixup.eval()\n",
        "    correct_train = 0\n",
        "    total_train = 0\n",
        "    with torch.no_grad():\n",
        "        for inputs, labels in train_loader:\n",
        "            outputs, _, _ = lenet_dirichlet_mixup(inputs)\n",
        "            _, predicted = torch.max(outputs.data, 1)\n",
        "            total_train += labels.size(0)\n",
        "            correct_train += (predicted == labels).sum().item()\n",
        "\n",
        "    correct_test = 0\n",
        "    total_test = 0\n",
        "    with torch.no_grad():\n",
        "        for inputs, labels in test_loader:\n",
        "            outputs, _, _ = lenet_dirichlet_mixup(inputs)\n",
        "            _, predicted = torch.max(outputs.data, 1)\n",
        "            total_test += labels.size(0)\n",
        "            correct_test += (predicted == labels).sum().item()\n",
        "\n",
        "    print('epoch %d - training accuracy: %2.4f \\t testing accuracy: %2.4f' %\n",
        "          (epoch+1, correct_train / total_train, correct_test / total_test))\n"
      ],
      "metadata": {
        "colab": {
          "base_uri": "https://localhost:8080/"
        },
        "id": "sPKXdGzkbiiY",
        "outputId": "9eb10cd7-f609-459d-80f0-71faa83384a0"
      },
      "execution_count": null,
      "outputs": [
        {
          "output_type": "stream",
          "name": "stdout",
          "text": [
            "epoch 1 - training accuracy: 0.9700 \t testing accuracy: 0.9743\n",
            "epoch 2 - training accuracy: 0.9810 \t testing accuracy: 0.9811\n",
            "epoch 3 - training accuracy: 0.9849 \t testing accuracy: 0.9842\n",
            "epoch 4 - training accuracy: 0.9886 \t testing accuracy: 0.9863\n",
            "epoch 5 - training accuracy: 0.9895 \t testing accuracy: 0.9871\n",
            "epoch 6 - training accuracy: 0.9905 \t testing accuracy: 0.9888\n",
            "epoch 7 - training accuracy: 0.9928 \t testing accuracy: 0.9898\n",
            "epoch 8 - training accuracy: 0.9933 \t testing accuracy: 0.9896\n",
            "epoch 9 - training accuracy: 0.9933 \t testing accuracy: 0.9892\n",
            "epoch 10 - training accuracy: 0.9940 \t testing accuracy: 0.9914\n"
          ]
        }
      ]
    },
    {
      "cell_type": "code",
      "source": [
        "import matplotlib.pyplot as plt\n",
        "import torchvision.transforms as transforms\n",
        "\n",
        "# Assuming you have the original MNIST dataset loaded\n",
        "transform_display = transforms.Compose([transforms.ToPILImage(), transforms.Resize((28, 28))])\n",
        "\n",
        "# Display the original image\n",
        "test_image, test_label = test_dataset[5]\n",
        "plt.imshow(transform_display(test_image), cmap='gray')\n",
        "plt.title(f'True Label: {test_label}')\n",
        "plt.axis('off')\n",
        "plt.show()\n",
        "input_image = test_image.unsqueeze(0)\n",
        "# Continue with the rest of the code for inference\n",
        "lenet_dirichlet_mixup.eval()\n",
        "\n",
        "with torch.no_grad():\n",
        "    outputs, uncertainty, alpha = lenet_dirichlet_mixup(input_image)\n",
        "\n",
        "probabilities = torch.nn.functional.softmax(outputs, dim=1)\n",
        "print(\"Predicted Probabilities:\", probabilities)\n",
        "print(\"Uncertainty:\", uncertainty)\n",
        "print(\"Alpha Parameters:\", alpha)\n",
        "print(\"True Label:\", test_label)"
      ],
      "metadata": {
        "colab": {
          "base_uri": "https://localhost:8080/",
          "height": 535
        },
        "id": "OJASLwk5dArJ",
        "outputId": "2482c31b-f4b7-4bc4-9d90-e48d118b748d"
      },
      "execution_count": null,
      "outputs": [
        {
          "output_type": "display_data",
          "data": {
            "text/plain": [
              "<Figure size 640x480 with 1 Axes>"
            ],
            "image/png": "[encoded data removed]"
          },
          "metadata": {}
        },
        {
          "output_type": "stream",
          "name": "stdout",
          "text": [
            "Predicted Probabilities: tensor([[0.0854, 0.2315, 0.0854, 0.0854, 0.0854, 0.0854, 0.0854, 0.0854, 0.0854,\n",
            "         0.0854]])\n",
            "Uncertainty: tensor([[0.0019]])\n",
            "Alpha Parameters: tensor([[1.1658e+00, 5.2202e+03, 1.5734e+00, 1.1877e+00, 1.2903e+00, 1.1423e+00,\n",
            "         1.1165e+00, 1.1213e+00, 1.7402e+00, 1.0298e+00]])\n",
            "True Label: 1\n"
          ]
        }
      ]
    },
    {
      "cell_type": "markdown",
      "source": [
        "###**Evidential deep learning And Mixup CIFAR10**"
      ],
      "metadata": {
        "id": "qhpQUdbmKio7"
      }
    },
    {
      "cell_type": "code",
      "source": [
        "import torch\n",
        "import torch.nn as nn\n",
        "import torch.optim as optim\n",
        "import torchvision\n",
        "import torchvision.transforms as transforms\n",
        "from torch.utils.data import DataLoader\n",
        "import numpy as np\n",
        "\n",
        "# Download CIFAR-10 dataset\n",
        "transform = transforms.Compose([transforms.ToTensor(), transforms.Normalize((0.5, 0.5, 0.5), (0.5, 0.5, 0.5))])\n",
        "train_dataset = torchvision.datasets.CIFAR10(root='./data1', train=True, download=True, transform=transform)\n",
        "test_dataset = torchvision.datasets.CIFAR10(root='./data1', train=False, download=True, transform=transform)\n",
        "\n",
        "train_loader = DataLoader(dataset=train_dataset, batch_size=64, shuffle=True)\n",
        "test_loader = DataLoader(dataset=test_dataset, batch_size=64, shuffle=False)\n",
        "\n",
        "# LeNet model with Dirichlet distribution for Evidential Deep Learning and mixup\n",
        "class LeNetDirichletCIFARMixup(nn.Module):\n",
        "    def __init__(self):\n",
        "        super(LeNetDirichletCIFARMixup, self).__init__()\n",
        "        self.conv1 = nn.Conv2d(3, 32, kernel_size=5, stride=1, padding=2)\n",
        "        self.pool1 = nn.MaxPool2d(kernel_size=2, stride=2)\n",
        "        self.conv2 = nn.Conv2d(32, 64, kernel_size=5, stride=1, padding=2)\n",
        "        self.pool2 = nn.MaxPool2d(kernel_size=2, stride=2)\n",
        "        self.fc1 = nn.Linear(8*8*64, 512)\n",
        "        self.fc2 = nn.Linear(512, 10)\n",
        "\n",
        "    def forward(self, x):\n",
        "        x = self.pool1(torch.relu(self.conv1(x)))\n",
        "        x = self.pool2(torch.relu(self.conv2(x)))\n",
        "        x = x.view(-1, 8*8*64)\n",
        "        x = torch.relu(self.fc1(x))\n",
        "        x = self.fc2(x)\n",
        "\n",
        "        alpha = torch.abs(x) + 1\n",
        "\n",
        "        u = 10 / torch.sum(alpha, dim=1, keepdim=True)\n",
        "\n",
        "        prob = alpha / torch.sum(alpha, 1, keepdim=True)\n",
        "\n",
        "        return prob, u, alpha\n",
        "\n",
        "# Updated mixup function for Evidential Deep Learning\n",
        "def mixup_data(x, y, alpha=0.1):\n",
        "    lam = np.random.beta(alpha, alpha)\n",
        "    batch_size = x.size()[0]\n",
        "    index = torch.randperm(batch_size)\n",
        "    mixed_x = lam * x + (1 - lam) * x[index, :]\n",
        "\n",
        "    # Convert labels to one-hot encoding\n",
        "    y_onehot = torch.zeros(y.size(0), 10).to(x.device)\n",
        "    y_onehot.scatter_(1, y.view(-1, 1).long(), 1)\n",
        "    mixed_y = lam * y_onehot + (1 - lam) * y_onehot[index, :]\n",
        "    mixed_y = mixed_y.argmax(dim=1)\n",
        "    return mixed_x, mixed_y\n",
        "\n",
        "\n",
        "# Train LeNet model with Dirichlet distribution and mixup for Evidential Deep Learning\n",
        "lenet_dirichlet_CIFAR_mixup = LeNetDirichletCIFARMixup()\n",
        "criterion_dirichlet = nn.CrossEntropyLoss()\n",
        "optimizer_dirichlet = optim.Adam(lenet_dirichlet_CIFAR_mixup.parameters(), lr=0.001)\n",
        "\n",
        "for epoch in range(20):\n",
        "    lenet_dirichlet_CIFAR_mixup.train()\n",
        "    for inputs, labels in train_loader:\n",
        "        inputs, labels = mixup_data(inputs, labels.unsqueeze(1))  # Assuming labels are one-dimensional\n",
        "\n",
        "        optimizer_dirichlet.zero_grad()\n",
        "        outputs, _, _ = lenet_dirichlet_CIFAR_mixup(inputs)\n",
        "\n",
        "        # Cast labels back to Long data type\n",
        "        labels = labels.squeeze().long()\n",
        "\n",
        "        loss = criterion_dirichlet(outputs, labels)\n",
        "        loss.backward()\n",
        "        optimizer_dirichlet.step()\n",
        "\n",
        "    lenet_dirichlet_CIFAR_mixup.eval()\n",
        "    correct_train = 0\n",
        "    total_train = 0\n",
        "    with torch.no_grad():\n",
        "        for inputs, labels in train_loader:\n",
        "            outputs, _, _ = lenet_dirichlet_CIFAR_mixup(inputs)\n",
        "            _, predicted = torch.max(outputs.data, 1)\n",
        "            total_train += labels.size(0)\n",
        "            correct_train += (predicted == labels).sum().item()\n",
        "\n",
        "    correct_test = 0\n",
        "    total_test = 0\n",
        "    with torch.no_grad():\n",
        "        for inputs, labels in test_loader:\n",
        "            outputs, _, _ = lenet_dirichlet_CIFAR_mixup(inputs)\n",
        "            _, predicted = torch.max(outputs.data, 1)\n",
        "            total_test += labels.size(0)\n",
        "            correct_test += (predicted == labels).sum().item()\n",
        "\n",
        "    print('epoch %d - training accuracy: %2.4f \\t testing accuracy: %2.4f' %\n",
        "          (epoch+1, correct_train / total_train, correct_test / total_test))"
      ],
      "metadata": {
        "colab": {
          "base_uri": "https://localhost:8080/"
        },
        "id": "QKoScADoLbMY",
        "outputId": "37cb1974-9193-490d-a29d-071731e3e9e3"
      },
      "execution_count": 2,
      "outputs": [
        {
          "output_type": "stream",
          "name": "stdout",
          "text": [
            "Files already downloaded and verified\n",
            "Files already downloaded and verified\n",
            "epoch 1 - training accuracy: 0.5069 \t testing accuracy: 0.5043\n",
            "epoch 2 - training accuracy: 0.5897 \t testing accuracy: 0.5683\n",
            "epoch 3 - training accuracy: 0.6323 \t testing accuracy: 0.6005\n",
            "epoch 4 - training accuracy: 0.6780 \t testing accuracy: 0.6246\n",
            "epoch 5 - training accuracy: 0.7125 \t testing accuracy: 0.6485\n",
            "epoch 6 - training accuracy: 0.7306 \t testing accuracy: 0.6515\n",
            "epoch 7 - training accuracy: 0.7452 \t testing accuracy: 0.6604\n",
            "epoch 8 - training accuracy: 0.7671 \t testing accuracy: 0.6730\n",
            "epoch 9 - training accuracy: 0.7869 \t testing accuracy: 0.6823\n",
            "epoch 10 - training accuracy: 0.7992 \t testing accuracy: 0.6848\n",
            "epoch 11 - training accuracy: 0.7975 \t testing accuracy: 0.6717\n",
            "epoch 12 - training accuracy: 0.8220 \t testing accuracy: 0.6890\n",
            "epoch 13 - training accuracy: 0.8237 \t testing accuracy: 0.6861\n",
            "epoch 14 - training accuracy: 0.8350 \t testing accuracy: 0.6922\n",
            "epoch 15 - training accuracy: 0.8439 \t testing accuracy: 0.6922\n",
            "epoch 16 - training accuracy: 0.8381 \t testing accuracy: 0.6833\n",
            "epoch 17 - training accuracy: 0.8501 \t testing accuracy: 0.6852\n",
            "epoch 18 - training accuracy: 0.8546 \t testing accuracy: 0.6918\n",
            "epoch 19 - training accuracy: 0.8611 \t testing accuracy: 0.6899\n",
            "epoch 20 - training accuracy: 0.8577 \t testing accuracy: 0.6826\n"
          ]
        }
      ]
    },
    {
      "cell_type": "code",
      "source": [
        "import matplotlib.pyplot as plt\n",
        "import torchvision.transforms as transforms\n",
        "\n",
        "# Assuming you have the original CIFAR-10 dataset loaded\n",
        "transform_display = transforms.Compose([transforms.ToPILImage(), transforms.Resize((32, 32))])\n",
        "\n",
        "# Display the original image\n",
        "test_image, true_label = test_dataset[5]  # Access the 5th test image\n",
        "plt.imshow(transform_display(test_image), cmap='gray')\n",
        "plt.title(f'True Label: {true_label}')\n",
        "plt.axis('off')\n",
        "plt.show()\n",
        "\n",
        "# Continue with the rest of the code for inference\n",
        "lenet_dirichlet_CIFAR_mixup.eval()\n",
        "class_labels = ['Airplane', 'Automobile', 'Bird', 'Cat', 'Deer', 'Dog', 'Frog', 'Horse', 'Ship', 'Truck']\n",
        "\n",
        "input_image = test_image.unsqueeze(0)\n",
        "\n",
        "with torch.no_grad():\n",
        "    outputs, uncertainty, alpha = lenet_dirichlet_CIFAR_mixup(input_image)\n",
        "\n",
        "predicted_probabilities = torch.nn.functional.softmax(outputs, dim=1)\n",
        "predicted_class = torch.argmax(predicted_probabilities, dim=1).item()\n",
        "\n",
        "print(\"Predicted Probabilities:\", predicted_probabilities)\n",
        "print(\"Predicted Class:\", class_labels[predicted_class])\n",
        "print(\"Uncertainty:\", uncertainty.item())\n",
        "print(\"Alpha Parameters:\", alpha.squeeze().tolist())\n",
        "print(\"True Label:\", class_labels[true_label])"
      ],
      "metadata": {
        "colab": {
          "base_uri": "https://localhost:8080/",
          "height": 555
        },
        "id": "FeCiZZdgNdeT",
        "outputId": "fd022825-c951-4775-d1f2-33e07ded9fd8"
      },
      "execution_count": null,
      "outputs": [
        {
          "output_type": "display_data",
          "data": {
            "text/plain": [
              "<Figure size 640x480 with 1 Axes>"
            ],
            "image/png": "[encoded data removed]"
          },
          "metadata": {}
        },
        {
          "output_type": "stream",
          "name": "stdout",
          "text": [
            "Predicted Probabilities: tensor([[0.0855, 0.0855, 0.0855, 0.0855, 0.0855, 0.0855, 0.2303, 0.0855, 0.0855,\n",
            "         0.0855]])\n",
            "Predicted Class: Frog\n",
            "Uncertainty: 0.007052295375615358\n",
            "Alpha Parameters: [1.1298736333847046, 1.167922019958496, 1.150836706161499, 1.6215661764144897, 1.2880825996398926, 1.050527572631836, 1406.2833251953125, 1.4581726789474487, 1.2837660312652588, 1.5439786911010742]\n",
            "True Label: Frog\n"
          ]
        }
      ]
    }
  ],
  "metadata": {
    "colab": {
      "provenance": [],
      "authorship_tag": "ABX9TyNrQp33IEd6XCFmYVZ1/5q8",
      "include_colab_link": true
    },
    "kernelspec": {
      "display_name": "Python 3",
      "name": "python3"
    },
    "language_info": {
      "name": "python"
    }
  },
  "nbformat": 4,
  "nbformat_minor": 0
}